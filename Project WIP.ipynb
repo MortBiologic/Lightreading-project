{
 "cells": [
  {
   "cell_type": "markdown",
   "metadata": {},
   "source": [
    "# Project LightReadingScraping\n",
    "\n",
    "## Code structure\n",
    "\n",
    "* Imports\n",
    "* Variable for rang month and year\n",
    "* Url for archive request\n",
    "* List creation for stocking output\n",
    "* for loop to ouput list(article_ai) of every lightreading month pages of every years\n",
    "* sleep function to bypass ban for to many request\n",
    "* for loop to parse month pages and find links to individual articles\n",
    "*\n",
    "* example of list of the extraction of a specefic data we want\n",
    "* example of transforming a series of list into a data frames for further analysis. \n",
    "*\n",
    "* print, pretty if possible\n",
    "\n",
    "## Problems with the actual code\n",
    "\n",
    "* Ban from Light reading\n",
    "    * Sleep might deal with this test stil needed\n",
    "\n",
    "## Things to implement\n",
    "\n",
    "* Clean html to extract only the link to the article\n",
    "* for loop to append the partial link founded and recompile with lightreading.com\n",
    "* for loop to parse linked article and extract only the needed data (text, author, date) OR extract the full html and build a function to clean it.\n"
   ]
  },
  {
   "cell_type": "code",
   "execution_count": 1,
   "metadata": {},
   "outputs": [],
   "source": [
    "\n",
    "from bs4 import BeautifulSoup\n",
    "import re\n",
    "import requests\n",
    "from time import sleep\n",
    "from random import randint"
   ]
  },
  {
   "cell_type": "code",
   "execution_count": null,
   "metadata": {},
   "outputs": [],
   "source": [
    "month = range(1, 13)\n",
    "year = range(2016, 2022)"
   ]
  },
  {
   "cell_type": "code",
   "execution_count": null,
   "metadata": {},
   "outputs": [],
   "source": [
    "url = 'https://www.lightreading.com/archives.asp?newsandviews=yes&tag_id=758&piddl_month={}&piddl_year={}'.format(month, year)\n"
   ]
  },
  {
   "cell_type": "code",
   "execution_count": null,
   "metadata": {},
   "outputs": [],
   "source": [
    "article_ai = []"
   ]
  },
  {
   "cell_type": "code",
   "execution_count": null,
   "metadata": {},
   "outputs": [],
   "source": [
    "for i in range(2016, 2022, 1):\n",
    "    for j in range(1, 13, 1): \n",
    "        if j < 8 and i == 2016:\n",
    "            continue\n",
    "        elif j > 2 and i == 2021:\n",
    "            continue\n",
    "        else:\n",
    "            url = 'https://www.lightreading.com/archives.asp?newsandviews=yes&tag_id=758&piddl_month={}&piddl_year={}'.format(j, i)\n",
    "            article_ai.append(url)"
   ]
  },
  {
   "cell_type": "code",
   "execution_count": null,
   "metadata": {},
   "outputs": [],
   "source": [
    "sleep(randint(10, 50))"
   ]
  },
  {
   "cell_type": "code",
   "execution_count": null,
   "metadata": {},
   "outputs": [],
   "source": [
    "for i in article_ai:\n",
    "    \n",
    "    i = requests.get(i)\n",
    "    soup = BeautifulSoup(i.text, 'html.parser')\n",
    "    article_div = soup.find_all('div', class_=\"card-content\")"
   ]
  },
  {
   "cell_type": "code",
   "execution_count": null,
   "metadata": {},
   "outputs": [],
   "source": [
    " article_date = i.h3.find('span', class_='lister-item-year').text\n",
    "        article_date.append(article_date)\n",
    "      "
   ]
  },
  {
   "cell_type": "code",
   "execution_count": null,
   "metadata": {},
   "outputs": [],
   "source": [
    "\n",
    "    movies = pd.DataFrame({\n",
    "'movie': titles,\n",
    "'year': years,\n",
    "'imdb': imdb_ratings,\n",
    "'metascore': metascores,\n",
    "'votes': votes,\n",
    "'us_grossMillions': us_gross,\n",
    "'timeMin': time\n",
    "})"
   ]
  },
  {
   "cell_type": "code",
   "execution_count": null,
   "metadata": {},
   "outputs": [],
   "source": [
    "print.prettify(article_div)\n"
   ]
  },
  {
   "cell_type": "code",
   "execution_count": null,
   "metadata": {},
   "outputs": [],
   "source": []
  }
 ],
 "metadata": {
  "kernelspec": {
   "display_name": "Python 3",
   "language": "python",
   "name": "python3"
  },
  "language_info": {
   "codemirror_mode": {
    "name": "ipython",
    "version": 3
   },
   "file_extension": ".py",
   "mimetype": "text/x-python",
   "name": "python",
   "nbconvert_exporter": "python",
   "pygments_lexer": "ipython3",
   "version": "3.8.5"
  }
 },
 "nbformat": 4,
 "nbformat_minor": 4
}
