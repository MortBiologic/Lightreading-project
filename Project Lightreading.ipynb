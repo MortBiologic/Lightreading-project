{
 "cells": [
  {
   "cell_type": "code",
   "execution_count": null,
   "metadata": {},
   "outputs": [],
   "source": [
    "from bs4 import BeautifulSoup\n",
    "import re\n",
    "import requests\n",
    "\n",
    "month = range(1, 13)\n",
    "year = range(2016, 2022)\n",
    "\n",
    "url = 'https://www.lightreading.com/archives.asp?newsandviews=yes&tag_id=758&piddl_month={}&piddl_year={}'.format(month, year)\n",
    "article_ai = []\n",
    "\n",
    "\n",
    "for i in range(2016, 2022, 1):\n",
    "    for j in range(1, 13, 1): \n",
    "        if j < 8 and i == 2016:\n",
    "            continue\n",
    "        elif j > 2 and i == 2021:\n",
    "            continue\n",
    "        else:\n",
    "            url = 'https://www.lightreading.com/archives.asp?newsandviews=yes&tag_id=758&piddl_month={}&piddl_year={}'.format(j, i)\n",
    "            article_ai.append(url)\n",
    "\n",
    "for i in article_ai:\n",
    "    \n",
    "    i = requests.get(i)\n",
    "    soup = BeautifulSoup(i.text, 'html.parser')\n",
    "    article_div = soup.find_all('div', class_=\"card-content\")\n",
    "    print(article_div)\n"
   ]
  },
  {
   "cell_type": "code",
   "execution_count": null,
   "metadata": {},
   "outputs": [],
   "source": []
  }
 ],
 "metadata": {
  "kernelspec": {
   "display_name": "Python 3",
   "language": "python",
   "name": "python3"
  },
  "language_info": {
   "codemirror_mode": {
    "name": "ipython",
    "version": 3
   },
   "file_extension": ".py",
   "mimetype": "text/x-python",
   "name": "python",
   "nbconvert_exporter": "python",
   "pygments_lexer": "ipython3",
   "version": "3.8.5"
  }
 },
 "nbformat": 4,
 "nbformat_minor": 4
}
